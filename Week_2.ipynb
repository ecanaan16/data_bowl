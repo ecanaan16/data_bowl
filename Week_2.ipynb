{
  "nbformat": 4,
  "nbformat_minor": 0,
  "metadata": {
    "colab": {
      "provenance": [],
      "authorship_tag": "ABX9TyN2PpdAaKLeGzhLazIqI56P",
      "include_colab_link": true
    },
    "kernelspec": {
      "name": "python3",
      "display_name": "Python 3"
    },
    "language_info": {
      "name": "python"
    }
  },
  "cells": [
    {
      "cell_type": "markdown",
      "metadata": {
        "id": "view-in-github",
        "colab_type": "text"
      },
      "source": [
        "<a href=\"https://colab.research.google.com/github/ecanaan16/data_bowl/blob/assignment2/Week_2.ipynb\" target=\"_parent\"><img src=\"https://colab.research.google.com/assets/colab-badge.svg\" alt=\"Open In Colab\"/></a>"
      ]
    },
    {
      "cell_type": "code",
      "execution_count": 15,
      "metadata": {
        "colab": {
          "base_uri": "https://localhost:8080/"
        },
        "id": "CVZco64HJ5Lo",
        "outputId": "c3f19277-60ee-4b66-9a0b-78fdbdce88bc"
      },
      "outputs": [
        {
          "output_type": "stream",
          "name": "stdout",
          "text": [
            "                       time      x      y     s     a   dis       o     dir  \\\n",
            "0  2018-10-26T00:27:01.200Z  38.47  35.03  0.00  0.00  0.00   96.28  149.52   \n",
            "1  2018-10-26T00:27:01.200Z  47.22  43.22  0.43  0.66  0.04  238.49   70.93   \n",
            "2  2018-10-26T00:27:01.200Z  44.05  14.36  0.15  1.01  0.02  281.24  272.67   \n",
            "3  2018-10-26T00:27:01.200Z  34.97  21.04  0.00  0.00  0.00   90.20   11.64   \n",
            "4  2018-10-26T00:27:01.200Z  35.29  23.72  0.00  0.00  0.00   90.94   95.36   \n",
            "\n",
            "  event      nflId       displayName  jerseyNumber position  frameId  team  \\\n",
            "0   NaN     2649.0    Danny Amendola          80.0       WR        1  away   \n",
            "1   NaN   496735.0    Kareem Jackson          25.0       CB        1  home   \n",
            "2   NaN  2495872.0  Johnathan Joseph          24.0       CB        1  home   \n",
            "3   NaN  2506404.0        Frank Gore          21.0       RB        1  away   \n",
            "4   NaN  2533436.0    Brock Osweiler           8.0       QB        1  away   \n",
            "\n",
            "       gameId  playId playDirection  route  \n",
            "0  2018102500     103         right     GO  \n",
            "1  2018102500     103         right    NaN  \n",
            "2  2018102500     103         right    NaN  \n",
            "3  2018102500     103         right  ANGLE  \n",
            "4  2018102500     103         right    NaN  \n",
            "                         time      x      y     s     a   dis       o     dir  \\\n",
            "126  2018-10-26T00:27:02.099Z  38.48  35.03  0.00  0.00  0.00   96.28   57.65   \n",
            "127  2018-10-26T00:27:02.099Z  47.64  43.34  0.44  0.29  0.05  235.48   76.21   \n",
            "128  2018-10-26T00:27:02.099Z  44.03  14.17  0.45  0.48  0.04  271.86  159.51   \n",
            "129  2018-10-26T00:27:02.099Z  34.97  21.04  0.00  0.00  0.00   90.20  352.98   \n",
            "130  2018-10-26T00:27:02.099Z  35.30  23.72  0.00  0.00  0.00   91.60  102.33   \n",
            "\n",
            "    event      nflId       displayName  jerseyNumber position  frameId  team  \\\n",
            "126   NaN     2649.0    Danny Amendola          80.0       WR       10  away   \n",
            "127   NaN   496735.0    Kareem Jackson          25.0       CB       10  home   \n",
            "128   NaN  2495872.0  Johnathan Joseph          24.0       CB       10  home   \n",
            "129   NaN  2506404.0        Frank Gore          21.0       RB       10  away   \n",
            "130   NaN  2533436.0    Brock Osweiler           8.0       QB       10  away   \n",
            "\n",
            "         gameId  playId playDirection  route  \n",
            "126  2018102500     103         right     GO  \n",
            "127  2018102500     103         right    NaN  \n",
            "128  2018102500     103         right    NaN  \n",
            "129  2018102500     103         right  ANGLE  \n",
            "130  2018102500     103         right    NaN  \n"
          ]
        }
      ],
      "source": [
        "#task 1\n",
        "import pandas as pd\n",
        "import numpy as np\n",
        "import matplotlib.pyplot as plt\n",
        "\n",
        "week8 = pd.read_csv(\"week8.csv\")\n",
        "\n",
        "filtered1 = week8[(week8[\"gameId\"] == 2018102500) &\n",
        "                  (week8[\"playId\"] == 103) &\n",
        "                  (week8[\"frameId\"] == 1)].copy()\n",
        "\n",
        "filtered10 = week8[(week8[\"gameId\"] == 2018102500) &\n",
        "                  (week8[\"playId\"] == 103) &\n",
        "                  (week8[\"frameId\"] == 10)].copy()\n",
        "\n",
        "\n",
        "print(filtered1.head())\n",
        "\n",
        "print(filtered10.head())\n",
        "\n",
        "\n",
        "\n",
        "\n",
        "\n",
        "\n",
        ""
      ]
    }
  ]
}