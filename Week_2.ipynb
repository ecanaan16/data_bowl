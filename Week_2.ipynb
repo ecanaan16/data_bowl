{
  "nbformat": 4,
  "nbformat_minor": 0,
  "metadata": {
    "colab": {
      "provenance": [],
      "authorship_tag": "ABX9TyOiescV3qc9AnX2LEE9Nhaq",
      "include_colab_link": true
    },
    "kernelspec": {
      "name": "python3",
      "display_name": "Python 3"
    },
    "language_info": {
      "name": "python"
    }
  },
  "cells": [
    {
      "cell_type": "markdown",
      "metadata": {
        "id": "view-in-github",
        "colab_type": "text"
      },
      "source": [
        "<a href=\"https://colab.research.google.com/github/ecanaan16/data_bowl/blob/assignment2/Week_2.ipynb\" target=\"_parent\"><img src=\"https://colab.research.google.com/assets/colab-badge.svg\" alt=\"Open In Colab\"/></a>"
      ]
    },
    {
      "cell_type": "code",
      "execution_count": 16,
      "metadata": {
        "colab": {
          "base_uri": "https://localhost:8080/"
        },
        "id": "CVZco64HJ5Lo",
        "outputId": "441d52b2-0900-4e1f-84d4-2e672b087308"
      },
      "outputs": [
        {
          "output_type": "stream",
          "name": "stdout",
          "text": [
            "13\n",
            "13\n"
          ]
        }
      ],
      "source": [
        "#task 1\n",
        "import pandas as pd\n",
        "import numpy as np\n",
        "import matplotlib.pyplot as plt\n",
        "\n",
        "week8 = pd.read_csv(\"week8.csv\")\n",
        "\n",
        "filtered1 = week8[(week8[\"gameId\"] == 2018102500) &\n",
        "                  (week8[\"playId\"] == 103) &\n",
        "                  (week8[\"frameId\"] == 1)].copy()\n",
        "\n",
        "filtered10 = week8[(week8[\"gameId\"] == 2018102500) &\n",
        "                  (week8[\"playId\"] == 103) &\n",
        "                  (week8[\"frameId\"] == 10)].copy()\n",
        "\n",
        "\n",
        "\n",
        "print(filtered1[\"nflId\"].nunique())\n",
        "\n",
        "print(filtered10[\"nflId\"].nunique())\n",
        "\n",
        "\n",
        "\n",
        "\n",
        "\n",
        "\n",
        ""
      ]
    }
  ]
}